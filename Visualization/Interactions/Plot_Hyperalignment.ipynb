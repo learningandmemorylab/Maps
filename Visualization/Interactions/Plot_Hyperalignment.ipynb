{
 "cells": [
  {
   "cell_type": "code",
   "execution_count": 2,
   "metadata": {},
   "outputs": [
    {
     "name": "stdout",
     "output_type": "stream",
     "text": [
      "Done\n"
     ]
    }
   ],
   "source": [
    "import os\n",
    "import numpy as np\n",
    "import scipy.io as spio\n",
    "import matplotlib.pyplot as plt\n",
    "from matplotlib.lines import Line2D\n",
    "from mlxtend.evaluate import permutation_test as permtest\n",
    "\n",
    "def getColorArr(inputTrue,inputNull):\n",
    "    colorArr = []\n",
    "    for el in inputTrue:\n",
    "        currP = permtest([el], inputNull,method='approximate',num_rounds=1000,seed=0)\n",
    "        if currP < 0.05:\n",
    "            colorArr.append('r')\n",
    "        else:\n",
    "            colorArr.append('b')\n",
    "    return colorArr\n",
    "\n",
    "def loadValuesFromFile(inputRawFile):\n",
    "    imat = spio.loadmat(inputRawFile)\n",
    "    trueHP = imat.get('trueHP').flatten()\n",
    "    truePH = imat.get('truePH').flatten()\n",
    "    nullHP = imat.get('nullHP').flatten()\n",
    "    nullPH = imat.get('nullPH').flatten()\n",
    "    colHP = getColorArr(trueHP,nullHP)\n",
    "    colPH = getColorArr(truePH,nullPH)\n",
    "    return trueHP,colHP,np.amin(nullHP),truePH,colPH,np.amin(nullPH)\n",
    "\n",
    "def generateFigure(spatialPath,cuePath,savInput):\n",
    "    spaHP,csHP,co1,spaPH,csPH,co2 = loadValuesFromFile(spatialPath)\n",
    "    cueHP,ccHP,co3,cuePH,ccPH,co4 = loadValuesFromFile(cuePath)\n",
    "    xArr1 = np.random.uniform(0.175,.225,size=np.shape(spaHP))\n",
    "    xArr2 = np.random.uniform(0.575,.625,size=np.shape(spaHP))\n",
    "    \n",
    "    fig = plt.figure(figsize=(10,10))\n",
    "    ax1 = fig.add_subplot(1,2,1)\n",
    "    ax2 = fig.add_subplot(1,2,2)\n",
    "    \n",
    "    ax1.scatter(xArr1,spaHP,color=csHP)\n",
    "    ax1.scatter(xArr2,spaPH,color=csPH)\n",
    "    ax1.set_xlim([0,.8])\n",
    "    ax1.set_ylim([0,30])\n",
    "    ax1.set_xticklabels('')\n",
    "    ax1.axhline(co1,xmin=.175,xmax=.325,c='k',linestyle='dashed')\n",
    "    ax1.axhline(co2,xmin=.675,xmax=.825,c='k',linestyle='dashed')\n",
    "    \n",
    "    ax2.scatter(xArr1,cueHP,color=ccHP)\n",
    "    ax2.scatter(xArr2,cuePH,color=ccPH)\n",
    "    ax2.set_xlim([0,.8])\n",
    "    ax2.set_ylim([0,30])\n",
    "    ax2.set_xticklabels('')\n",
    "    ax2.axhline(co3,xmin=.175,xmax=.325,c='k',linestyle='dashed')\n",
    "    ax2.axhline(co4,xmin=.675,xmax=.825,c='k',linestyle='dashed')\n",
    "    \n",
    "    #plt.show()\n",
    "    fig.savefig(savInput,bbox_inches='tight')\n",
    "    plt.close()\n",
    "    return None\n",
    "\n",
    "rawSpa = ''\n",
    "rawCue = ''\n",
    "figSav = ''\n",
    "var = generateFigure(rawSpa,rawCue,figSav)\n",
    "print('Done')\n"
   ]
  }
 ],
 "metadata": {
  "kernelspec": {
   "display_name": "Python 3",
   "language": "python",
   "name": "python3"
  },
  "language_info": {
   "codemirror_mode": {
    "name": "ipython",
    "version": 3
   },
   "file_extension": ".py",
   "mimetype": "text/x-python",
   "name": "python",
   "nbconvert_exporter": "python",
   "pygments_lexer": "ipython3",
   "version": "3.7.3"
  }
 },
 "nbformat": 4,
 "nbformat_minor": 2
}
