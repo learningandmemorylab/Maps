{
 "cells": [
  {
   "cell_type": "code",
   "execution_count": 1,
   "metadata": {},
   "outputs": [
    {
     "name": "stdout",
     "output_type": "stream",
     "text": [
      "Done\n"
     ]
    }
   ],
   "source": [
    "import os\n",
    "import numpy as np\n",
    "import scipy.io as spio\n",
    "import matplotlib.pyplot as plt\n",
    "from matplotlib.lines import Line2D\n",
    "from mlxtend.evaluate import permutation_test as permtest\n",
    "\n",
    "def generateColorArr(inputTrue,inputNull):\n",
    "    colorArr = []\n",
    "    for el in inputTrue:\n",
    "        currP = permtest([el], inputNull,method='approximate',num_rounds=1000,seed=0)\n",
    "        if currP < 0.05:\n",
    "            colorArr.append('r')\n",
    "        else:\n",
    "            colorArr.append('b')\n",
    "    return colorArr,np.mean(inputNull)+2*np.std(inputNull)/8000**.5\n",
    "\n",
    "def loadValuesFromFile(inputRawFile):\n",
    "    imat = spio.loadmat(inputRawFile)\n",
    "    trueSpaHP = imat.get('trueSpaHP').flatten()\n",
    "    trueSpaPH = imat.get('trueSpaPH').flatten()\n",
    "    trueCueHP = imat.get('trueCueHP').flatten()\n",
    "    trueCuePH = imat.get('trueCuePH').flatten()\n",
    "    colsSpaHP,cut1 = generateColorArr(imat.get('trueSpaHP').flatten(),imat.get('nullSpaHP').flatten())\n",
    "    colsSpaPH,cut2 = generateColorArr(imat.get('trueSpaPH').flatten(),imat.get('nullSpaPH').flatten())\n",
    "    colsCueHP,cut3 = generateColorArr(imat.get('trueCueHP').flatten(),imat.get('nullCueHP').flatten())\n",
    "    colsCuePH,cut4 = generateColorArr(imat.get('trueCuePH').flatten(),imat.get('nullCuePH').flatten())\n",
    "    return trueSpaHP,colsSpaHP,trueSpaPH,colsSpaPH,trueCueHP,colsCueHP,trueCuePH,colsCuePH,cut1,cut2,cut3,cut4\n",
    "\n",
    "def generateFigure(rawInput,savInput):\n",
    "    spaHP,csHP,spaPH,csPH,cueHP,ccHP,cuePH,ccPH,co1,co2,co3,co4 = loadValuesFromFile(rawInput)\n",
    "    xArr1 = np.random.uniform(0.175,.225,size=np.shape(spaHP))\n",
    "    xArr2 = np.random.uniform(0.575,.625,size=np.shape(spaHP))\n",
    "    \n",
    "    fig = plt.figure(figsize=(10,10))\n",
    "    ax1 = fig.add_subplot(1,2,1)\n",
    "    ax2 = fig.add_subplot(1,2,2)\n",
    "    \n",
    "    ax1.scatter(xArr1,spaHP,color=csHP)\n",
    "    ax1.scatter(xArr2,spaPH,color=csPH)\n",
    "    ax1.set_xlim([0,.8])\n",
    "    ax1.set_ylim([0,.12])\n",
    "    ax1.axhline(co1,xmin=.175,xmax=.325,c='k',linestyle='dashed')\n",
    "    ax1.axhline(co2,xmin=.675,xmax=.825,c='k',linestyle='dashed')\n",
    "    \n",
    "    ax2.scatter(xArr1,cueHP,color=ccHP)\n",
    "    ax2.scatter(xArr2,cuePH,color=ccPH)\n",
    "    ax2.set_xlim([0,.8])\n",
    "    ax2.set_ylim([0,.12])\n",
    "    ax2.axhline(co3,xmin=.175,xmax=.325,c='k',linestyle='dashed')\n",
    "    ax2.axhline(co4,xmin=.675,xmax=.825,c='k',linestyle='dashed')\n",
    "    \n",
    "    #plt.show()\n",
    "    fig.savefig(savInput,bbox_inches='tight')\n",
    "    plt.close()\n",
    "    return None\n",
    "\n",
    "rawF = ''\n",
    "savF = ''\n",
    "figVar = generateFigure(rawF,savF)\n",
    "print('Done')\n"
   ]
  }
 ],
 "metadata": {
  "kernelspec": {
   "display_name": "Python 3",
   "language": "python",
   "name": "python3"
  },
  "language_info": {
   "codemirror_mode": {
    "name": "ipython",
    "version": 3
   },
   "file_extension": ".py",
   "mimetype": "text/x-python",
   "name": "python",
   "nbconvert_exporter": "python",
   "pygments_lexer": "ipython3",
   "version": "3.7.3"
  }
 },
 "nbformat": 4,
 "nbformat_minor": 2
}
