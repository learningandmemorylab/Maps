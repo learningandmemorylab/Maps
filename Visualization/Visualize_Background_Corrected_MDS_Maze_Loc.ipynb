{
 "cells": [
  {
   "cell_type": "code",
   "execution_count": 1,
   "metadata": {},
   "outputs": [
    {
     "name": "stdout",
     "output_type": "stream",
     "text": [
      "Done\n"
     ]
    }
   ],
   "source": [
    "import os\n",
    "import random\n",
    "import numpy as np\n",
    "import scipy.io as spio\n",
    "import plotly.graph_objects as go\n",
    "from plotly.graph_objs import Layout\n",
    "\n",
    "def generateLocIndexArray(hpcM,pfcM,posArr):\n",
    "    iWP = []\n",
    "    iST = []\n",
    "    iCH = []\n",
    "    iGO = []\n",
    "    for a,el in enumerate(posArr):\n",
    "        if el == 'P                               ':\n",
    "            iWP.append(a)\n",
    "        if el == 'S                               ':\n",
    "            iST.append(a)\n",
    "        if el == 'C                               ':\n",
    "            iCH.append(a)\n",
    "        if el == 'G                               ':\n",
    "            iGO.append(a)\n",
    "    wpHPC = np.take(hpcM,iWP,axis=0)\n",
    "    stHPC = np.take(hpcM,iST,axis=0)\n",
    "    chHPC = np.take(hpcM,iCH,axis=0)\n",
    "    goHPC = np.take(hpcM,iGO,axis=0)\n",
    "    wpPFC = np.take(pfcM,iWP,axis=0)\n",
    "    stPFC = np.take(pfcM,iST,axis=0)\n",
    "    chPFC = np.take(pfcM,iCH,axis=0)\n",
    "    goPFC = np.take(pfcM,iGO,axis=0)\n",
    "    return wpHPC,stHPC,chHPC,goHPC,wpPFC,stPFC,chPFC,goPFC\n",
    "\n",
    "def getValues(inputMDS,inputTSNE):\n",
    "    mmat = spio.loadmat(inputMDS)\n",
    "    tmat = spio.loadmat(inputTSNE)\n",
    "    hpcMatrixMDS = mmat.get('hpcMatrix')\n",
    "    pfcMatrixMDS = mmat.get('pfcMatrix')\n",
    "    positionArr = tmat.get('trialPositions').flatten()\n",
    "    return generateLocIndexArray(hpcMatrixMDS,pfcMatrixMDS,positionArr)\n",
    "\n",
    "def generateSingleFigure(pBlock,rBlock,bBlock,gBlock,savName):\n",
    "    fig = go.Figure()\n",
    "    fig.add_trace(go.Scatter3d(x=rBlock[:,0], y=rBlock[:,1], z=rBlock[:,2], name='Start',\n",
    "                          mode='markers',marker=dict(size=3,color='red')))\n",
    "    fig.add_trace(go.Scatter3d(x=bBlock[:,0], y=bBlock[:,1], z=bBlock[:,2], name='Choice',\n",
    "                          mode='markers',marker=dict(size=3,color='blue')))\n",
    "    fig.add_trace(go.Scatter3d(x=gBlock[:,0], y=gBlock[:,1], z=gBlock[:,2], name='Goal',\n",
    "                          mode='markers',marker=dict(size=3,color='green')))\n",
    "    fig.add_trace(go.Scatter3d(x=pBlock[:,0], y=pBlock[:,1], z=pBlock[:,2], name='WP',\n",
    "                          mode='markers',marker=dict(size=3,color='purple')))\n",
    "    fig.update_layout(scene = dict(xaxis = dict(backgroundcolor=\"#F5F5F5\",gridcolor=\"#EAEAEA\",showbackground=True,\n",
    "                         zerolinecolor=\"#EAEAEA\",),\n",
    "                    yaxis = dict(backgroundcolor=\"#F5F5F5\",gridcolor=\"#EAEAEA\",showbackground=True,\n",
    "                        zerolinecolor=\"#EAEAEA\"),\n",
    "                    zaxis = dict(backgroundcolor=\"#F5F5F5\",gridcolor=\"#EAEAEA\",showbackground=True,\n",
    "                        zerolinecolor=\"#EAEAEA\",),),\n",
    "                  )\n",
    "    fig.write_html(savName)\n",
    "    return None\n",
    "\n",
    "def generateFigure(rawFileMDS,rawFileTSNE,savFigFile1,savFigFile2):\n",
    "    hWP,hST,hCH,hGO,pWP,pST,pCH,pGO = getValues(rawFileMDS,rawFileTSNE)\n",
    "    figHPC = generateSingleFigure(hWP,hST,hCH,hGO,savFigFile1)\n",
    "    figPFC = generateSingleFigure(pWP,pST,pCH,pGO,savFigFile2)\n",
    "    return None\n",
    "\n",
    "rawMDS = ''\n",
    "rawTSNE = ''\n",
    "savFile1 = ''\n",
    "savFile2 = ''\n",
    "figGen = generateFigure(rawMDS,rawTSNE,savFile1,savFile2)\n",
    "print('Done')\n"
   ]
  }
 ],
 "metadata": {
  "kernelspec": {
   "display_name": "Python 3",
   "language": "python",
   "name": "python3"
  },
  "language_info": {
   "codemirror_mode": {
    "name": "ipython",
    "version": 3
   },
   "file_extension": ".py",
   "mimetype": "text/x-python",
   "name": "python",
   "nbconvert_exporter": "python",
   "pygments_lexer": "ipython3",
   "version": "3.7.3"
  }
 },
 "nbformat": 4,
 "nbformat_minor": 2
}
